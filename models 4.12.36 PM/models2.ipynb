{
 "cells": [
  {
   "cell_type": "code",
   "execution_count": 1,
   "id": "10f94b3a",
   "metadata": {},
   "outputs": [
    {
     "name": "stdout",
     "output_type": "stream",
     "text": [
      "                                        masked_email      type\n",
      "0  Subject: unforeseen crash of the data analysis...  Incident\n",
      "1  Subject: Customer Support Inquiry\\n\\nSeeking i...   Request\n",
      "2  Subject: Data Analytics for Investment\\n\\nI am...   Request\n",
      "3  Subject: Hospital service problem\\n\\nMedia dat...  Incident\n",
      "4  Subject: Security\\n\\nDear Customer Support, I ...   Request\n",
      "type\n",
      "Incident    9586\n",
      "Request     6860\n",
      "Problem     5037\n",
      "Change      2517\n",
      "Name: count, dtype: int64\n"
     ]
    }
   ],
   "source": [
    "import pandas as pd\n",
    "from sklearn.model_selection import train_test_split\n",
    "\n",
    "# Load your dataset\n",
    "df = pd.read_csv('/Users/vighneshms/Downloads/Email_classifier/models/masked_emails_with_types.csv')  # Assuming CSV format\n",
    "\n",
    "# Explore the data\n",
    "print(df.head())\n",
    "print(df['type'].value_counts())  # Check class distribution"
   ]
  },
  {
   "cell_type": "code",
   "execution_count": 3,
   "id": "e3152e7b",
   "metadata": {},
   "outputs": [
    {
     "name": "stderr",
     "output_type": "stream",
     "text": [
      "[nltk_data] Downloading package stopwords to\n",
      "[nltk_data]     /Users/vighneshms/nltk_data...\n",
      "[nltk_data]   Package stopwords is already up-to-date!\n",
      "[nltk_data] Downloading package wordnet to\n",
      "[nltk_data]     /Users/vighneshms/nltk_data...\n",
      "[nltk_data]   Package wordnet is already up-to-date!\n"
     ]
    }
   ],
   "source": [
    "import nltk\n",
    "from nltk.corpus import stopwords\n",
    "from nltk.stem import WordNetLemmatizer\n",
    "import string\n",
    "import re\n",
    "\n",
    "nltk.download('stopwords')\n",
    "nltk.download('wordnet')\n",
    "\n",
    "def preprocess_text(text):\n",
    "    # Lowercase\n",
    "    text = text.lower()\n",
    "    \n",
    "    # Remove punctuation\n",
    "    text = ''.join([char for char in text if char not in string.punctuation])\n",
    "    \n",
    "    # Remove numbers\n",
    "    text = re.sub(r'\\d+', '', text)\n",
    "    \n",
    "    # Tokenize\n",
    "    words = text.split()\n",
    "    \n",
    "    # Remove stopwords\n",
    "    stop_words = set(stopwords.words('english'))\n",
    "    words = [word for word in words if word not in stop_words]\n",
    "    \n",
    "    # Lemmatization\n",
    "    lemmatizer = WordNetLemmatizer()\n",
    "    words = [lemmatizer.lemmatize(word) for word in words]\n",
    "    \n",
    "    return ' '.join(words)\n",
    "\n",
    "df['processed_text'] = df['masked_email'].apply(preprocess_text)"
   ]
  },
  {
   "cell_type": "code",
   "execution_count": 4,
   "id": "a50cbef1",
   "metadata": {},
   "outputs": [],
   "source": [
    "from sklearn.feature_extraction.text import TfidfVectorizer\n",
    "\n",
    "tfidf = TfidfVectorizer(\n",
    "    max_features=5000,\n",
    "    ngram_range=(1,2) \n",
    ") # Include bigrams\n",
    "X = tfidf.fit_transform(df['processed_text'])\n",
    "y = df['type']\n",
    "\n",
    "# Split data\n",
    "X_train, X_test, y_train, y_test = train_test_split(X, y, test_size=0.2, random_state=42)"
   ]
  },
  {
   "cell_type": "code",
   "execution_count": 10,
   "id": "1b6d6670",
   "metadata": {},
   "outputs": [
    {
     "name": "stdout",
     "output_type": "stream",
     "text": [
      "Defaulting to user installation because normal site-packages is not writeable\n",
      "Collecting imblearn\n",
      "  Downloading imblearn-0.0-py2.py3-none-any.whl.metadata (355 bytes)\n",
      "Collecting imbalanced-learn (from imblearn)\n",
      "  Downloading imbalanced_learn-0.12.4-py3-none-any.whl.metadata (8.3 kB)\n",
      "Requirement already satisfied: numpy>=1.17.3 in /Users/vighneshms/Library/Python/3.9/lib/python/site-packages (from imbalanced-learn->imblearn) (1.26.4)\n",
      "Requirement already satisfied: scipy>=1.5.0 in /Users/vighneshms/Library/Python/3.9/lib/python/site-packages (from imbalanced-learn->imblearn) (1.13.1)\n",
      "Requirement already satisfied: scikit-learn>=1.0.2 in /Users/vighneshms/Library/Python/3.9/lib/python/site-packages (from imbalanced-learn->imblearn) (1.5.2)\n",
      "Requirement already satisfied: joblib>=1.1.1 in /Users/vighneshms/Library/Python/3.9/lib/python/site-packages (from imbalanced-learn->imblearn) (1.4.2)\n",
      "Requirement already satisfied: threadpoolctl>=2.0.0 in /Users/vighneshms/Library/Python/3.9/lib/python/site-packages (from imbalanced-learn->imblearn) (3.5.0)\n",
      "Downloading imblearn-0.0-py2.py3-none-any.whl (1.9 kB)\n",
      "Downloading imbalanced_learn-0.12.4-py3-none-any.whl (258 kB)\n",
      "Installing collected packages: imbalanced-learn, imblearn\n",
      "Successfully installed imbalanced-learn-0.12.4 imblearn-0.0\n",
      "Note: you may need to restart the kernel to use updated packages.\n"
     ]
    }
   ],
   "source": [
    "pip install imblearn"
   ]
  },
  {
   "cell_type": "code",
   "execution_count": 5,
   "id": "f5d49bb3",
   "metadata": {},
   "outputs": [],
   "source": [
    "from imblearn.over_sampling import SMOTE\n",
    "\n",
    "smote = SMOTE(random_state=42)\n",
    "X_res, y_res = smote.fit_resample(X_train, y_train)"
   ]
  },
  {
   "cell_type": "code",
   "execution_count": 6,
   "id": "8c06d2bb",
   "metadata": {},
   "outputs": [],
   "source": [
    "from sklearn.ensemble import RandomForestClassifier\n",
    "from sklearn.naive_bayes import MultinomialNB\n",
    "from sklearn.svm import SVC\n",
    "from sklearn.metrics import classification_report"
   ]
  },
  {
   "cell_type": "code",
   "execution_count": 7,
   "id": "87cd89f3",
   "metadata": {},
   "outputs": [
    {
     "name": "stdout",
     "output_type": "stream",
     "text": [
      "Random Forest:\n",
      "               precision    recall  f1-score   support\n",
      "\n",
      "      Change       0.92      0.82      0.87       479\n",
      "    Incident       0.72      0.92      0.81      1920\n",
      "     Problem       0.71      0.35      0.47      1009\n",
      "     Request       0.92      0.93      0.93      1392\n",
      "\n",
      "    accuracy                           0.79      4800\n",
      "   macro avg       0.82      0.76      0.77      4800\n",
      "weighted avg       0.79      0.79      0.78      4800\n",
      "\n"
     ]
    }
   ],
   "source": [
    "rf = RandomForestClassifier(\n",
    "    class_weight='balanced',  # Add class weights\n",
    "    n_estimators=200,\n",
    "    max_depth=None,\n",
    "    min_samples_split=10,\n",
    "    random_state=42\n",
    ")\n",
    "rf.fit(X_res, y_res)\n",
    "rf_pred = rf.predict(X_test)\n",
    "print(\"Random Forest:\\n\", classification_report(y_test, rf_pred))"
   ]
  },
  {
   "cell_type": "code",
   "execution_count": 8,
   "id": "530e244d",
   "metadata": {},
   "outputs": [],
   "source": [
    "import pickle\n",
    "\n",
    "# Save the best model and vectorizer\n",
    "with open('email_classifier.pkl', 'wb') as f:\n",
    "    pickle.dump(rf, f)  # Assuming RF was best\n",
    "\n",
    "with open('tfidf_vectorizer.pkl', 'wb') as f:\n",
    "    pickle.dump(tfidf, f)"
   ]
  },
  {
   "cell_type": "code",
   "execution_count": 7,
   "id": "44e066d7",
   "metadata": {},
   "outputs": [
    {
     "name": "stdout",
     "output_type": "stream",
     "text": [
      "Stacking:\n",
      "               precision    recall  f1-score   support\n",
      "\n",
      "      Change       0.91      0.83      0.87       479\n",
      "    Incident       0.71      0.86      0.78      1920\n",
      "     Problem       0.61      0.40      0.48      1009\n",
      "     Request       0.92      0.92      0.92      1392\n",
      "\n",
      "    accuracy                           0.78      4800\n",
      "   macro avg       0.79      0.75      0.76      4800\n",
      "weighted avg       0.77      0.78      0.77      4800\n",
      "\n"
     ]
    }
   ],
   "source": [
    "from sklearn.ensemble import StackingClassifier\n",
    "from sklearn.linear_model import LogisticRegression\n",
    "\n",
    "# Define base models\n",
    "estimators = [\n",
    "    ('svm', SVC(kernel='linear', probability=True)),\n",
    "    ('nb', MultinomialNB()),\n",
    "    ('rf', RandomForestClassifier())\n",
    "]\n",
    "\n",
    "# Create stack with logistic regression as final estimator\n",
    "stack = StackingClassifier(\n",
    "    estimators=estimators,\n",
    "    final_estimator=LogisticRegression(class_weight='balanced'),\n",
    "    cv=5  # Use cross-validated predictions\n",
    ")\n",
    "\n",
    "# Train and evaluate\n",
    "stack.fit(X_res, y_res)\n",
    "y_pred = stack.predict(X_test)\n",
    "print(\"Stacking:\\n\", classification_report(y_test, y_pred))"
   ]
  },
  {
   "cell_type": "code",
   "execution_count": 2,
   "id": "dd0bd59e",
   "metadata": {},
   "outputs": [
    {
     "name": "stdout",
     "output_type": "stream",
     "text": [
      "Defaulting to user installation because normal site-packages is not writeable\n",
      "Collecting xgboost\n",
      "  Downloading xgboost-2.1.4-py3-none-macosx_12_0_arm64.whl.metadata (2.1 kB)\n",
      "Requirement already satisfied: numpy in /Users/vighneshms/Library/Python/3.9/lib/python/site-packages (from xgboost) (1.26.4)\n",
      "Requirement already satisfied: scipy in /Users/vighneshms/Library/Python/3.9/lib/python/site-packages (from xgboost) (1.13.1)\n",
      "Downloading xgboost-2.1.4-py3-none-macosx_12_0_arm64.whl (1.9 MB)\n",
      "\u001b[2K   \u001b[90m━━━━━━━━━━━━━━━━━━━━━━━━━━━━━━━━━━━━━━━━\u001b[0m \u001b[32m1.9/1.9 MB\u001b[0m \u001b[31m13.2 MB/s\u001b[0m eta \u001b[36m0:00:00\u001b[0m\n",
      "\u001b[?25hInstalling collected packages: xgboost\n",
      "Successfully installed xgboost-2.1.4\n",
      "Note: you may need to restart the kernel to use updated packages.\n"
     ]
    }
   ],
   "source": [
    "pip install xgboost"
   ]
  },
  {
   "cell_type": "code",
   "execution_count": 2,
   "id": "da2ce005",
   "metadata": {},
   "outputs": [
    {
     "name": "stdout",
     "output_type": "stream",
     "text": [
      "                                        masked_email      type\n",
      "0  Subject: unforeseen crash of the data analysis...  Incident\n",
      "1  Subject: Customer Support Inquiry\\n\\nSeeking i...   Request\n",
      "2  Subject: Data Analytics for Investment\\n\\nI am...   Request\n",
      "3  Subject: Hospital service problem\\n\\nMedia dat...  Incident\n",
      "4  Subject: Security\\n\\nDear Customer Support, I ...   Request\n",
      "Stacking Classifier:\n",
      "               precision    recall  f1-score   support\n",
      "\n",
      "      Change       0.89      0.93      0.91       479\n",
      "    Incident       0.83      0.74      0.78      1920\n",
      "     Problem       0.59      0.71      0.64      1009\n",
      "     Request       0.95      0.93      0.94      1392\n",
      "\n",
      "    accuracy                           0.81      4800\n",
      "   macro avg       0.81      0.83      0.82      4800\n",
      "weighted avg       0.82      0.81      0.81      4800\n",
      "\n",
      "\n",
      "Predicted intent: Change\n"
     ]
    }
   ],
   "source": [
    "import pandas as pd\n",
    "import numpy as np\n",
    "from sklearn.model_selection import train_test_split\n",
    "from sklearn.feature_extraction.text import TfidfVectorizer\n",
    "from sklearn.preprocessing import LabelEncoder\n",
    "from sklearn.ensemble import RandomForestClassifier, StackingClassifier\n",
    "from sklearn.svm import SVC\n",
    "from sklearn.naive_bayes import MultinomialNB\n",
    "from xgboost import XGBClassifier\n",
    "from sklearn.linear_model import LogisticRegression\n",
    "from sklearn.metrics import classification_report\n",
    "import joblib\n",
    "\n",
    "# Load your dataset\n",
    "df = pd.read_csv('/Users/vighneshms/Downloads/Email_classifier/models/masked_emails_with_types.csv')  # Replace with your file path\n",
    "print(df.head())\n",
    "\n",
    "# Preprocess text data\n",
    "def preprocess_text(text):\n",
    "    if not isinstance(text, str):\n",
    "        return \"\"\n",
    "    # Basic preprocessing - expand as needed\n",
    "    text = text.lower().replace('\\n', ' ').replace('\\r', '')\n",
    "    return text\n",
    "\n",
    "df['processed_text'] = df['masked_email'].apply(preprocess_text)\n",
    "\n",
    "# Encode labels\n",
    "label_encoder = LabelEncoder()\n",
    "df['label_encoded'] = label_encoder.fit_transform(df['type'])\n",
    "\n",
    "# Split data\n",
    "X_train, X_test, y_train, y_test = train_test_split(\n",
    "    df['processed_text'], \n",
    "    df['label_encoded'], \n",
    "    test_size=0.2, \n",
    "    random_state=42\n",
    ")\n",
    "\n",
    "# Feature extraction\n",
    "tfidf = TfidfVectorizer(\n",
    "    max_features=5000,\n",
    "    ngram_range=(1, 2),  # Use unigrams and bigrams\n",
    "    stop_words='english'\n",
    ")\n",
    "\n",
    "X_train_tfidf = tfidf.fit_transform(X_train).tocsr()\n",
    "X_test_tfidf = tfidf.transform(X_test).tocsr()\n",
    "\n",
    "# Ensure matrices are writeable\n",
    "X_train_tfidf.sort_indices()\n",
    "X_test_tfidf.sort_indices()\n",
    "\n",
    "# ... [rest of your code remains the same until the estimators] ...\n",
    "\n",
    "# Define base models for stacking - with modified SVM parameters\n",
    "estimators = [\n",
    "    ('svm', SVC(kernel='linear', probability=True, class_weight='balanced', random_state=42)),\n",
    "    ('nb', MultinomialNB()),\n",
    "    ('rf', RandomForestClassifier(class_weight='balanced', n_estimators=200, random_state=42)),\n",
    "    ('xgb', XGBClassifier(objective='multi:softmax', \n",
    "                         num_class=len(label_encoder.classes_),\n",
    "                         eval_metric='mlogloss',\n",
    "                         random_state=42))\n",
    "]\n",
    "\n",
    "# Create stacking classifier with modified settings\n",
    "stack = StackingClassifier(\n",
    "    estimators=estimators,\n",
    "    final_estimator=LogisticRegression(class_weight='balanced', max_iter=1000, random_state=42),\n",
    "    cv=5,\n",
    "    n_jobs=1,  # Reduce to 1 to avoid parallel processing issues\n",
    "    passthrough=False  # Don't pass original features to meta-learner\n",
    ")\n",
    "\n",
    "# Train the stacking model\n",
    "try:\n",
    "    stack.fit(X_train_tfidf.copy(), y_train)  # Explicit copy to ensure writeable\n",
    "except ValueError as e:\n",
    "    print(f\"Error during fitting: {e}\")\n",
    "    # Fallback to non-sparse if needed\n",
    "    stack.fit(X_train_tfidf.toarray(), y_train)\n",
    "\n",
    "# Evaluate\n",
    "y_pred = stack.predict(X_test_tfidf)\n",
    "print(\"Stacking Classifier:\\n\", classification_report(y_test, y_pred, target_names=label_encoder.classes_))\n",
    "\n",
    "# Save the model and preprocessing components\n",
    "joblib.dump(tfidf, '/Users/vighneshms/Downloads/Email_classifier/models/tfidf_vectorizer_stack.pkl')\n",
    "joblib.dump(label_encoder, '/Users/vighneshms/Downloads/Email_classifier/models/label_encoder_stack.pkl')\n",
    "joblib.dump(stack, '/Users/vighneshms/Downloads/Email_classifier/models/intent_classifier_stack.pkl')\n",
    "\n",
    "# Example prediction function\n",
    "def predict_intent(email_text):\n",
    "    # Load saved components\n",
    "    tfidf = joblib.load('/Users/vighneshms/Downloads/Email_classifier/models/tfidf_vectorizer_stack.pkl')\n",
    "    model = joblib.load('/Users/vighneshms/Downloads/Email_classifier/models/intent_classifier_stack.pkl')\n",
    "    le = joblib.load('/Users/vighneshms/Downloads/Email_classifier/models/label_encoder_stack.pkl')\n",
    "    \n",
    "    # Preprocess and predict\n",
    "    processed = preprocess_text(email_text)\n",
    "    vectorized = tfidf.transform([processed])\n",
    "    prediction = model.predict(vectorized)\n",
    "    return le.inverse_transform(prediction)[0]\n",
    "\n",
    "# Test prediction\n",
    "sample_email = \"We need to update the server configuration\"\n",
    "print(f\"\\nPredicted intent: {predict_intent(sample_email)}\")"
   ]
  },
  {
   "cell_type": "code",
   "execution_count": 7,
   "id": "f84b334f",
   "metadata": {},
   "outputs": [],
   "source": [
    "import pandas as pd\n",
    "df = pd.read_csv('/Users/vighneshms/Downloads/Email_classifier/models/emails_subject_body_type3.csv')  "
   ]
  },
  {
   "cell_type": "code",
   "execution_count": 8,
   "id": "0765e5b2",
   "metadata": {},
   "outputs": [],
   "source": [
    "from sklearn.model_selection import train_test_split\n",
    "\n",
    "# Subject-only classification\n",
    "X_subject = df['subject']\n",
    "y_subject = df['type']\n",
    "\n",
    "# Body-only classification\n",
    "X_body = df['body']\n",
    "y_body = df['type']\n",
    "\n",
    "# Split data (70% train, 30% test)\n",
    "X_subj_train, X_subj_test, y_subj_train, y_subj_test = train_test_split(\n",
    "    X_subject, y_subject, test_size=0.3, random_state=42\n",
    ")\n",
    "\n",
    "X_body_train, X_body_test, y_body_train, y_body_test = train_test_split(\n",
    "    X_body, y_body, test_size=0.3, random_state=42\n",
    ")"
   ]
  },
  {
   "cell_type": "code",
   "execution_count": 10,
   "id": "163dc561",
   "metadata": {},
   "outputs": [],
   "source": [
    "\n",
    "from sklearn.pipeline import Pipeline\n",
    "from sklearn.feature_extraction.text import TfidfVectorizer\n",
    "from sklearn.svm import SVC\n",
    "from sklearn.metrics import classification_report\n",
    "\n",
    "# Shared preprocessing steps\n",
    "preprocessor = Pipeline([\n",
    "    ('tfidf', TfidfVectorizer(\n",
    "        max_features=5000,\n",
    "        ngram_range=(1, 2),  # Includes unigrams and bigrams\n",
    "    ))\n",
    "])\n",
    "\n",
    "# Subject classifier\n",
    "subject_clf = Pipeline([\n",
    "    ('preprocess', preprocessor),\n",
    "    ('classifier', SVC(\n",
    "        kernel='linear',\n",
    "        class_weight='balanced',\n",
    "        probability=True\n",
    "    ))\n",
    "])\n",
    "\n",
    "# Body classifier\n",
    "body_clf = Pipeline([\n",
    "    ('preprocess', preprocessor),\n",
    "    ('classifier', SVC(\n",
    "        kernel='linear',\n",
    "        class_weight='balanced',\n",
    "        probability=True\n",
    "    ))\n",
    "])"
   ]
  },
  {
   "cell_type": "code",
   "execution_count": null,
   "id": "047fbb5b",
   "metadata": {},
   "outputs": [
    {
     "name": "stdout",
     "output_type": "stream",
     "text": [
      "\n",
      "=== Body-Only Performance ===\n",
      "              precision    recall  f1-score   support\n",
      "\n",
      "      Change       0.79      0.86      0.82       762\n",
      "    Incident       0.74      0.61      0.67      2869\n",
      "     Problem       0.44      0.59      0.50      1484\n",
      "     Request       0.93      0.89      0.91      2085\n",
      "\n",
      "    accuracy                           0.71      7200\n",
      "   macro avg       0.72      0.74      0.72      7200\n",
      "weighted avg       0.74      0.71      0.72      7200\n",
      "\n"
     ]
    }
   ],
   "source": [
    "# Train subject classifier\n",
    "# subject_clf.fit(X_subj_train, y_subj_train)\n",
    "# y_subj_pred = subject_clf.predict(X_subj_test)\n",
    "\n",
    "# Train body classifier\n",
    "# body_clf.fit(X_body_train, y_body_train)\n",
    "# y_body_pred = body_clf.predict(X_body_test)\n",
    "\n",
    "# Compare performance\n",
    "# print(\"=== Subject-Only Performance ===\")\n",
    "# print(classification_report(y_subj_test, y_subj_pred))\n",
    "\n",
    "# print(\"\\n=== Body-Only Performance ===\")\n",
    "# print(classification_report(y_body_test, y_body_pred))"
   ]
  },
  {
   "cell_type": "code",
   "execution_count": 11,
   "id": "863750d4",
   "metadata": {},
   "outputs": [
    {
     "name": "stdout",
     "output_type": "stream",
     "text": [
      "=== Subject-Only Performance ===\n",
      "              precision    recall  f1-score   support\n",
      "\n",
      "      Change       0.43      0.78      0.56       762\n",
      "    Incident       0.71      0.53      0.60      2869\n",
      "     Problem       0.41      0.48      0.44      1484\n",
      "     Request       0.83      0.76      0.80      2085\n",
      "\n",
      "    accuracy                           0.61      7200\n",
      "   macro avg       0.59      0.64      0.60      7200\n",
      "weighted avg       0.65      0.61      0.62      7200\n",
      "\n"
     ]
    }
   ],
   "source": [
    "# Train subject classifier\n",
    "subject_clf.fit(X_subj_train, y_subj_train)\n",
    "y_subj_pred = subject_clf.predict(X_subj_test)\n",
    "\n",
    "print(\"=== Subject-Only Performance ===\")\n",
    "print(classification_report(y_subj_test, y_subj_pred))"
   ]
  }
 ],
 "metadata": {
  "kernelspec": {
   "display_name": "Python 3",
   "language": "python",
   "name": "python3"
  },
  "language_info": {
   "codemirror_mode": {
    "name": "ipython",
    "version": 3
   },
   "file_extension": ".py",
   "mimetype": "text/x-python",
   "name": "python",
   "nbconvert_exporter": "python",
   "pygments_lexer": "ipython3",
   "version": "3.9.6"
  }
 },
 "nbformat": 4,
 "nbformat_minor": 5
}
